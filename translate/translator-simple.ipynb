{
 "cells": [
  {
   "cell_type": "code",
   "execution_count": 3,
   "id": "727ed9ae-4118-4df2-b5c7-1037d21b6268",
   "metadata": {
    "tags": []
   },
   "outputs": [],
   "source": [
    "import requests, uuid, json\n",
    "\n"
   ]
  },
  {
   "cell_type": "code",
   "execution_count": 4,
   "id": "aa4502fa-4588-442b-940e-f0844fe6c9db",
   "metadata": {
    "tags": []
   },
   "outputs": [],
   "source": [
    "# Add your key and endpoint\n",
    "key = \"21ddc66b74074f97ab67a3fc8e0db326\"\n",
    "endpoint = \"https://api.cognitive.microsofttranslator.com\""
   ]
  },
  {
   "cell_type": "code",
   "execution_count": 7,
   "id": "1855a212-70fc-415d-b165-92a45386b781",
   "metadata": {
    "tags": []
   },
   "outputs": [],
   "source": [
    "# location, also known as region.\n",
    "# required if you're using a multi-service or regional (not global) resource. It can be found in the Azure portal on the Keys and Endpoint page.\n",
    "location = \"germanywestcentral\""
   ]
  },
  {
   "cell_type": "code",
   "execution_count": 12,
   "id": "36969bb1-26bf-4f6f-821b-232202e55cb8",
   "metadata": {
    "tags": []
   },
   "outputs": [],
   "source": [
    "path = '/translate'\n",
    "constructed_url = endpoint + path\n",
    "\n",
    "params = {\n",
    "    'api-version': '3.0', 'from': 'en', 'to': ['fr', 'zu']\n",
    "}"
   ]
  },
  {
   "cell_type": "code",
   "execution_count": 14,
   "id": "724133d6-7290-464a-827d-d34679276abe",
   "metadata": {
    "tags": []
   },
   "outputs": [],
   "source": [
    "headers = {\n",
    "    'Ocp-Apim-Subscription-Key': key,\n",
    "    # location required if you're using a multi-service or regional (not global) resource.\n",
    "    'Ocp-Apim-Subscription-Region': location,\n",
    "    'Content-type': 'application/json',\n",
    "    'X-ClientTraceId': str(uuid.uuid4())\n",
    "}\n"
   ]
  },
  {
   "cell_type": "code",
   "execution_count": 15,
   "id": "98bc7f8a-1edd-4c12-9556-671748a00895",
   "metadata": {
    "tags": []
   },
   "outputs": [
    {
     "name": "stdout",
     "output_type": "stream",
     "text": [
      "[\n",
      "    {\n",
      "        \"translations\": [\n",
      "            {\n",
      "                \"text\": \"J’aimerais vraiment conduire votre voiture autour du pâté de maisons plusieurs fois !\",\n",
      "                \"to\": \"fr\"\n",
      "            },\n",
      "            {\n",
      "                \"text\": \"Ngingathanda ngempela ukushayela imoto yakho emhlabeni block izikhathi ezimbalwa!\",\n",
      "                \"to\": \"zu\"\n",
      "            }\n",
      "        ]\n",
      "    }\n",
      "]\n"
     ]
    }
   ],
   "source": [
    "# You can pass more than one object in body.\n",
    "body = [{\n",
    "    'text': 'I would really like to drive your car around the block a few times!'\n",
    "}]\n",
    "\n",
    "request = requests.post(constructed_url, params=params, headers=headers, json=body)\n",
    "response = request.json()\n",
    "\n",
    "print(json.dumps(response, sort_keys=True, ensure_ascii=False, indent=4, separators=(',', ': ')))"
   ]
  },
  {
   "cell_type": "code",
   "execution_count": null,
   "id": "381b9ab1-ff80-4659-ace4-26e134da3777",
   "metadata": {},
   "outputs": [],
   "source": []
  }
 ],
 "metadata": {
  "kernelspec": {
   "display_name": "Python 3.8 - AzureML",
   "language": "python",
   "name": "python38-azureml"
  },
  "language_info": {
   "codemirror_mode": {
    "name": "ipython",
    "version": 3
   },
   "file_extension": ".py",
   "mimetype": "text/x-python",
   "name": "python",
   "nbconvert_exporter": "python",
   "pygments_lexer": "ipython3",
   "version": "3.9.19"
  }
 },
 "nbformat": 4,
 "nbformat_minor": 5
}
